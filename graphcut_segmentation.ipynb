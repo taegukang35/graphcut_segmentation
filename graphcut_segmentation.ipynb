{
  "nbformat": 4,
  "nbformat_minor": 0,
  "metadata": {
    "colab": {
      "name": "graphcut_segmentation.ipynb",
      "provenance": [],
      "authorship_tag": "ABX9TyO/PIEPAQMv9ySDl8+1OM9Y",
      "include_colab_link": true
    },
    "kernelspec": {
      "name": "python3",
      "display_name": "Python 3"
    },
    "language_info": {
      "name": "python"
    }
  },
  "cells": [
    {
      "cell_type": "markdown",
      "metadata": {
        "id": "view-in-github",
        "colab_type": "text"
      },
      "source": [
        "<a href=\"https://colab.research.google.com/github/taegukang35/graphcut_segmentation/blob/main/graphcut_segmentation.ipynb\" target=\"_parent\"><img src=\"https://colab.research.google.com/assets/colab-badge.svg\" alt=\"Open In Colab\"/></a>"
      ]
    },
    {
      "cell_type": "markdown",
      "source": [
        "# Load Image & Object and Background seed"
      ],
      "metadata": {
        "id": "OXwT08dAxjl-"
      }
    },
    {
      "cell_type": "code",
      "execution_count": null,
      "metadata": {
        "colab": {
          "base_uri": "https://localhost:8080/",
          "height": 287
        },
        "id": "p4ZskkgPwXST",
        "outputId": "ccd2d8ef-800e-4edd-93cb-34744bc1ed7b"
      },
      "outputs": [
        {
          "output_type": "execute_result",
          "data": {
            "text/plain": [
              "<matplotlib.image.AxesImage at 0x7f8bb01a5e50>"
            ]
          },
          "metadata": {},
          "execution_count": 46
        },
        {
          "output_type": "display_data",
          "data": {
            "text/plain": [
              "<Figure size 432x288 with 1 Axes>"
            ],
            "image/png": "[encoded data removed]"
          },
          "metadata": {
            "needs_background": "light"
          }
        }
      ],
      "source": [
        "import numpy as np\n",
        "from math import exp, pow\n",
        "import matplotlib.pyplot as plt\n",
        "\n",
        "img = np.array([[12, 13, 17],\n",
        "       [40, 30, 150],\n",
        "       [123, 137, 130]])\n",
        "\n",
        "plt.imshow(img)"
      ]
    },
    {
      "cell_type": "code",
      "source": [
        "bkg = [(0,0),(1,0)]\n",
        "obj = [(2,1),(2,2)]\n",
        "bkg_values = [img[i[0]][i[1]] for i in bkg]\n",
        "obj_values = [img[i[0]][i[1]] for i in obj]\n",
        "hkg_hist,_= np.histogram(bkg_values,256,[0,256])\n",
        "obj_hist,_= np.histogram(obj_values,256,[0,256])\n",
        "print(obj_hist)"
      ],
      "metadata": {
        "colab": {
          "base_uri": "https://localhost:8080/"
        },
        "id": "bTw9vdnq4Nmn",
        "outputId": "c14c5325-0693-4449-845f-a1be7bf057cc"
      },
      "execution_count": null,
      "outputs": [
        {
          "output_type": "stream",
          "name": "stdout",
          "text": [
            "[0 0 0 0 0 0 0 0 0 0 0 0 0 0 0 0 0 0 0 0 0 0 0 0 0 0 0 0 0 0 0 0 0 0 0 0 0\n",
            " 0 0 0 0 0 0 0 0 0 0 0 0 0 0 0 0 0 0 0 0 0 0 0 0 0 0 0 0 0 0 0 0 0 0 0 0 0\n",
            " 0 0 0 0 0 0 0 0 0 0 0 0 0 0 0 0 0 0 0 0 0 0 0 0 0 0 0 0 0 0 0 0 0 0 0 0 0\n",
            " 0 0 0 0 0 0 0 0 0 0 0 0 0 0 0 0 0 0 0 1 0 0 0 0 0 0 1 0 0 0 0 0 0 0 0 0 0\n",
            " 0 0 0 0 0 0 0 0 0 0 0 0 0 0 0 0 0 0 0 0 0 0 0 0 0 0 0 0 0 0 0 0 0 0 0 0 0\n",
            " 0 0 0 0 0 0 0 0 0 0 0 0 0 0 0 0 0 0 0 0 0 0 0 0 0 0 0 0 0 0 0 0 0 0 0 0 0\n",
            " 0 0 0 0 0 0 0 0 0 0 0 0 0 0 0 0 0 0 0 0 0 0 0 0 0 0 0 0 0 0 0 0 0 0]\n"
          ]
        }
      ]
    },
    {
      "cell_type": "markdown",
      "source": [
        "# Cost function"
      ],
      "metadata": {
        "id": "vG2gbSj1M7qm"
      }
    },
    {
      "cell_type": "markdown",
      "source": [
        "Boundary Cost"
      ],
      "metadata": {
        "id": "QDdgP4fpMEnq"
      }
    },
    {
      "cell_type": "code",
      "source": [
        "def B(p,q):\n",
        "    return 100*exp(-pow(int(p)-int(q),2)/(2*pow(30,2)))"
      ],
      "metadata": {
        "id": "NsXeLBc-9U1Y"
      },
      "execution_count": null,
      "outputs": []
    },
    {
      "cell_type": "code",
      "source": [
        "B(180,200)"
      ],
      "metadata": {
        "colab": {
          "base_uri": "https://localhost:8080/"
        },
        "id": "qw3xod0ZLgm1",
        "outputId": "208f88e0-bb16-496e-9e8a-1bd8a98a4fc7"
      },
      "execution_count": null,
      "outputs": [
        {
          "output_type": "execute_result",
          "data": {
            "text/plain": [
              "80.0737402916808"
            ]
          },
          "metadata": {},
          "execution_count": 22
        }
      ]
    },
    {
      "cell_type": "markdown",
      "source": [
        "Gaussian Mixture Model"
      ],
      "metadata": {
        "id": "Fm_IIinFxbwI"
      }
    },
    {
      "cell_type": "code",
      "source": [
        "from sklearn.mixture import GaussianMixture\n",
        "import cv2\n",
        "\n",
        "data = bkg_values+obj_values\n",
        "print(data)\n",
        "gmm = GaussianMixture(n_components = 2)\n",
        "gmm = gmm.fit(X=np.expand_dims(data,1))\n",
        "gmm_x = np.linspace(0,253,256)\n",
        "gmm_y = np.exp(gmm.score_samples(gmm_x.reshape(-1,1)))"
      ],
      "metadata": {
        "colab": {
          "base_uri": "https://localhost:8080/"
        },
        "id": "in9AuoLYzqL1",
        "outputId": "9e7ff9db-c0fc-4260-baba-be25b9254525"
      },
      "execution_count": null,
      "outputs": [
        {
          "output_type": "stream",
          "name": "stdout",
          "text": [
            "[12, 40, 137, 130]\n"
          ]
        }
      ]
    },
    {
      "cell_type": "code",
      "source": [
        "fig, ax = plt.subplots()\n",
        "ax.hist(data,255,[2,256])\n",
        "ax.set_ylabel(\"Frequency\")\n",
        "ax.set_xlabel(\"Pixel Intensity\")\n",
        "ax.plot(gmm_x, gmm_y, color=\"crimson\", lw=4, label=\"GMM\")\n",
        "plt.legend()\n",
        "\n",
        "plt.show()"
      ],
      "metadata": {
        "colab": {
          "base_uri": "https://localhost:8080/",
          "height": 279
        },
        "id": "j-7RHtQ714Gn",
        "outputId": "015de2cd-8726-4736-e405-f337b6afadcd"
      },
      "execution_count": null,
      "outputs": [
        {
          "output_type": "display_data",
          "data": {
            "text/plain": [
              "<Figure size 432x288 with 1 Axes>"
            ],
            "image/png": "[encoded data removed]"
          },
          "metadata": {
            "needs_background": "light"
          }
        }
      ]
    },
    {
      "cell_type": "code",
      "source": [
        "bkg_gmm = GaussianMixture(n_components = 1)\n",
        "bkg_gmm = bkg_gmm.fit(X=np.expand_dims(bkg_values,1))\n",
        "gmm_x = np.linspace(0,253,256)\n",
        "gmm_y = np.exp(bkg_gmm.score_samples(gmm_x.reshape(-1,1)))\n",
        "\n",
        "fig, ax = plt.subplots()\n",
        "ax.hist(data,255,[2,256])\n",
        "ax.set_ylabel(\"Frequency\")\n",
        "ax.set_xlabel(\"Pixel Intensity\")\n",
        "ax.plot(gmm_x, gmm_y, color=\"crimson\", lw=4, label=\"GMM\")\n",
        "plt.legend()\n",
        "\n",
        "plt.show()"
      ],
      "metadata": {
        "colab": {
          "base_uri": "https://localhost:8080/",
          "height": 279
        },
        "id": "fh-zeE0v-Kqp",
        "outputId": "9e066742-1549-4b02-a7b8-378edd1dacc2"
      },
      "execution_count": null,
      "outputs": [
        {
          "output_type": "display_data",
          "data": {
            "text/plain": [
              "<Figure size 432x288 with 1 Axes>"
            ],
            "image/png": "[encoded data removed]"
          },
          "metadata": {
            "needs_background": "light"
          }
        }
      ]
    },
    {
      "cell_type": "code",
      "source": [
        "obj_gmm = GaussianMixture(n_components = 1)\n",
        "obj_gmm = obj_gmm.fit(X=np.expand_dims(obj_values,1))\n",
        "gmm_x = np.linspace(0,253,256)\n",
        "gmm_y = np.exp(obj_gmm.score_samples(gmm_x.reshape(-1,1)))\n",
        "\n",
        "fig, ax = plt.subplots()\n",
        "ax.hist(data,255,[2,256])\n",
        "ax.set_ylabel(\"Frequency\")\n",
        "ax.set_xlabel(\"Pixel Intensity\")\n",
        "ax.plot(gmm_x, gmm_y, color=\"crimson\", lw=4, label=\"GMM\")\n",
        "plt.legend()\n",
        "\n",
        "plt.show()"
      ],
      "metadata": {
        "colab": {
          "base_uri": "https://localhost:8080/",
          "height": 279
        },
        "id": "NdCTfx0S-tgH",
        "outputId": "a389b32a-f109-4ec9-82c5-8310bcb51cdc"
      },
      "execution_count": null,
      "outputs": [
        {
          "output_type": "display_data",
          "data": {
            "text/plain": [
              "<Figure size 432x288 with 1 Axes>"
            ],
            "image/png": "[encoded data removed]"
          },
          "metadata": {
            "needs_background": "light"
          }
        }
      ]
    },
    {
      "cell_type": "code",
      "source": [
        "np.exp(gmm.score_samples([[100]]))"
      ],
      "metadata": {
        "colab": {
          "base_uri": "https://localhost:8080/"
        },
        "id": "9xkOwrXV2W24",
        "outputId": "fa928c5f-a692-40d8-a23c-9d965269c127"
      },
      "execution_count": null,
      "outputs": [
        {
          "output_type": "execute_result",
          "data": {
            "text/plain": [
              "array([1.221586e-08])"
            ]
          },
          "metadata": {},
          "execution_count": 27
        }
      ]
    },
    {
      "cell_type": "markdown",
      "source": [
        "Regional Cost"
      ],
      "metadata": {
        "id": "qF6XZ5vj9osT"
      }
    },
    {
      "cell_type": "code",
      "source": [
        "def R(p):\n",
        "    P_obj = np.exp(obj_gmm.score_samples([[p]]))\n",
        "    P_bkg = np.exp(bkg_gmm.score_samples([[p]]))\n",
        "    P_p_obj = P_obj/(P_obj+P_bkg)\n",
        "    P_p_bkg = P_bkg/(P_obj+P_bkg)\n",
        "    return -np.log(P_p_obj),-np.log(P_p_bkg)"
      ],
      "metadata": {
        "id": "GSLcIGgL2lpF"
      },
      "execution_count": null,
      "outputs": []
    },
    {
      "cell_type": "code",
      "source": [
        "R(100)"
      ],
      "metadata": {
        "colab": {
          "base_uri": "https://localhost:8080/"
        },
        "id": "LrP94rCSIp5Y",
        "outputId": "b2a7b4ce-84d8-41f3-c8a8-a1dc3888d3cf"
      },
      "execution_count": null,
      "outputs": [
        {
          "output_type": "execute_result",
          "data": {
            "text/plain": [
              "(array([30.4504367]), array([5.96189764e-14]))"
            ]
          },
          "metadata": {},
          "execution_count": 78
        }
      ]
    },
    {
      "cell_type": "markdown",
      "source": [
        "# Create Graph"
      ],
      "metadata": {
        "id": "WiyUM1lONCvQ"
      }
    },
    {
      "cell_type": "code",
      "source": [
        "r,c = img.shape\n",
        "V = r*c+2\n",
        "G = np.zeros((V,V))\n",
        "F = np.zeros((V,V))\n",
        "alpha = 1\n",
        "K = 1e9"
      ],
      "metadata": {
        "id": "6g_rYyxIOw5s"
      },
      "execution_count": null,
      "outputs": []
    },
    {
      "cell_type": "markdown",
      "source": [
        "Add node to graph & set cost of terminal edges "
      ],
      "metadata": {
        "id": "ALp4ZjZQG6lB"
      }
    },
    {
      "cell_type": "code",
      "source": [
        "for i in range(r):\n",
        "    for j in range(c):\n",
        "        print(R(img[i][j]))\n",
        "        if (i,j) in obj:\n",
        "            G[0][1+c*i+j] = K\n",
        "            G[1+c*i+j][V-1] = 0\n",
        "        elif (i,j) in bkg:\n",
        "            G[0][1+c*i+j] = 0\n",
        "            G[1+c*i+j][V-1] = K\n",
        "        else:\n",
        "            R_bkg, R_obj = R(img[i][j])\n",
        "            G[0][1+c*i+j] = alpha*R_obj\n",
        "            G[1+c*i+j][V-1] = alpha*R_bkg"
      ],
      "metadata": {
        "colab": {
          "base_uri": "https://localhost:8080/"
        },
        "id": "UOCU9croPjzl",
        "outputId": "02a3c178-b324-48e2-f867-ba51618f3c2d"
      },
      "execution_count": null,
      "outputs": [
        {
          "output_type": "stream",
          "name": "stdout",
          "text": [
            "(array([600.65447282]), array([-0.]))\n",
            "(array([590.84580016]), array([-0.]))\n",
            "(array([552.37641556]), array([-0.]))\n",
            "(array([354.94020716]), array([-0.]))\n",
            "(array([435.80754754]), array([-0.]))\n",
            "(array([1.54543045e-13]), array([29.49853993]))\n",
            "(array([8.47402371e-10]), array([20.88884559]))\n",
            "(array([9.2148511e-15]), array([32.31741665]))\n",
            "(array([4.28546088e-13]), array([28.47813096]))\n"
          ]
        }
      ]
    },
    {
      "cell_type": "markdown",
      "source": [
        "Set cost of adjacent pixels"
      ],
      "metadata": {
        "id": "9t20hUrtIgCS"
      }
    },
    {
      "cell_type": "code",
      "source": [
        "for i in range(r):\n",
        "    for j in range(c):\n",
        "        if i-1>=0 and G[c*i+j+1][c*(i-1)+j+1]==0:\n",
        "            G[c*i+j+1][c*(i-1)+j+1] = B(img[i][j],img[i-1][j])\n",
        "            G[c*(i-1)+j+1][c*i+j+1] = B(img[i][j],img[i-1][j])\n",
        "        if i+1<r and G[c*i+j+1][c*(i+1)+j+1]==0:\n",
        "            G[c*i+j+1][c*(i+1)+j+1] = B(img[i][j],img[i+1][j])\n",
        "            G[c*(i+1)+j+1][c*i+j+1] = B(img[i][j],img[i+1][j])\n",
        "        if j-1>=0 and G[c*i+j+1][c*i+(j-1)+1]==0:\n",
        "            G[c*i+j+1][c*i+(j-1)+1] = B(img[i][j],img[i][j-1])\n",
        "            G[c*i+(j-1)+1][c*i+j+1] = B(img[i][j],img[i][j-1])\n",
        "        if j+1<c and G[c*i+(j+1)+1][c*i+(j+1)+1]==0:\n",
        "            G[c*i+j+1][c*i+(j+1)+1] = B(img[i][j+1],img[i][j])\n",
        "            G[c*i+(j+1)+1][c*i+j+1] = B(img[i][j+1],img[i][j])"
      ],
      "metadata": {
        "id": "bq4yyvYXIfZF"
      },
      "execution_count": null,
      "outputs": []
    },
    {
      "cell_type": "markdown",
      "source": [
        "\n",
        "#Minimum Cut"
      ],
      "metadata": {
        "id": "vPK7368c5VW_"
      }
    },
    {
      "cell_type": "markdown",
      "source": [
        "Max flow via ford-fulkerson"
      ],
      "metadata": {
        "id": "SLmtDj8yx_wR"
      }
    },
    {
      "cell_type": "code",
      "source": [
        "from collections import deque\n",
        "\n",
        "def networkFlow(source, sink, capacity, flow):\n",
        "    N, totalflow = len(capacity), 0\n",
        "    while True:\n",
        "        # BFS 로 경로 탐색\n",
        "        parent = [-1]*N\n",
        "        queue = deque()\n",
        "        parent[source] = source\n",
        "        queue.append(source)\n",
        "        while queue and parent[sink] == -1:\n",
        "            p = queue.popleft()\n",
        "            for q in range(N):\n",
        "                # 잔여 용량이 남아있는 간선 탐색\n",
        "                if capacity[p][q]-flow[p][q] > 0 and parent[q] == -1:\n",
        "                    queue.append(q)\n",
        "                    parent[q] = p\n",
        "        # 증가 가능 경로가 없으면 종료\n",
        "        if parent[sink] == -1: break\n",
        "        # 증가 경로를 통해 얼마나 보낼지 결정\n",
        "        p, amount = sink,int(1e9)\n",
        "        while (p != source):\n",
        "            amount = min(amount, capacity[parent[p]][p]-flow[parent[p]][p])\n",
        "            p = parent[p]\n",
        "        # 증가 경로로 유량을 보냄\n",
        "        p = sink\n",
        "        while (p != source):\n",
        "            flow[parent[p]][p] += amount\n",
        "            flow[p][parent[p]] -= amount\n",
        "            p = parent[p]\n",
        "        totalflow += amount\n",
        "    return totalflow "
      ],
      "metadata": {
        "id": "bc1zSefS5aUf"
      },
      "execution_count": null,
      "outputs": []
    },
    {
      "cell_type": "markdown",
      "source": [
        "minimum-cut edge"
      ],
      "metadata": {
        "id": "EaREk2X5-EfG"
      }
    },
    {
      "cell_type": "code",
      "source": [
        "capacity = [[0, 16, 13, 0, 0, 0],\n",
        "        [0, 0, 10, 12, 0, 0],\n",
        "        [0, 4, 0, 0, 14, 0],\n",
        "        [0, 0, 9, 0, 0, 20],\n",
        "        [0, 0, 0, 7, 0, 4],\n",
        "        [0, 0, 0, 0, 0, 0]]\n",
        "flow = [[0]*6 for _ in range(6)]\n",
        "source = 0; sink = 5\n",
        "print(networkFlow(0,5, capacity, flow))\n",
        "\n",
        "def dfs(graph,s,visited):\n",
        "        visited[s]=True\n",
        "        for i in range(len(graph)):\n",
        "            if graph[s][i]>0 and not visited[i]:\n",
        "                dfs(graph,i,visited)\n",
        "visited = [False]*6\n",
        "dfs(capacity,0,visited)"
      ],
      "metadata": {
        "colab": {
          "base_uri": "https://localhost:8080/"
        },
        "id": "OChMGOTQ9T1G",
        "outputId": "9745813f-d834-402a-f3ed-143e201c7219"
      },
      "execution_count": null,
      "outputs": [
        {
          "output_type": "stream",
          "name": "stdout",
          "text": [
            "23\n"
          ]
        }
      ]
    },
    {
      "cell_type": "code",
      "source": [
        "for i in range(6):\n",
        "    for j in range(6):\n",
        "        if visited[i] and capacity[i][j]==flow[i][j]!=0:\n",
        "            print(i,j)\n",
        "            capacity[i][j] = 0"
      ],
      "metadata": {
        "id": "A6mW0DSj96D5"
      },
      "execution_count": null,
      "outputs": []
    },
    {
      "cell_type": "code",
      "source": [
        "group = [False]*6\n",
        "dfs(capacity,0,group)\n",
        "print(group)"
      ],
      "metadata": {
        "colab": {
          "base_uri": "https://localhost:8080/"
        },
        "id": "Zc8UOCfJ-cDg",
        "outputId": "d8c8a23d-ede1-4283-eb46-b947e65dd331"
      },
      "execution_count": null,
      "outputs": [
        {
          "output_type": "stream",
          "name": "stdout",
          "text": [
            "[True, True, True, False, True, False]\n"
          ]
        }
      ]
    },
    {
      "cell_type": "markdown",
      "source": [
        "#Image Segmentation via Graph-cut"
      ],
      "metadata": {
        "id": "l15yI6u0_3qO"
      }
    },
    {
      "cell_type": "code",
      "source": [
        "networkFlow(0,V-1,G,F)"
      ],
      "metadata": {
        "colab": {
          "base_uri": "https://localhost:8080/"
        },
        "id": "fzpC1OAv_9VU",
        "outputId": "918282c0-1b25-4bcc-efee-fe1bcf7e42e2"
      },
      "execution_count": null,
      "outputs": [
        {
          "output_type": "execute_result",
          "data": {
            "text/plain": [
              "2.3887835252008327"
            ]
          },
          "metadata": {},
          "execution_count": 127
        }
      ]
    },
    {
      "cell_type": "code",
      "source": [
        "visited = [False]*V\n",
        "dfs(G,0,visited)\n",
        "for i in range(V):\n",
        "    for j in range(V):\n",
        "        if visited[i] and G[i][j]==F[i][j]!=0:\n",
        "            print(i,j)\n",
        "            G[i][j] = 0\n",
        "group = [False]*V\n",
        "dfs(G,0,group)\n",
        "print(group)"
      ],
      "metadata": {
        "colab": {
          "base_uri": "https://localhost:8080/"
        },
        "id": "LGxw4OdZAjKU",
        "outputId": "02461944-a5c1-493e-bdd2-a9b4a66fd783"
      },
      "execution_count": null,
      "outputs": [
        {
          "output_type": "stream",
          "name": "stdout",
          "text": [
            "6 3\n",
            "6 5\n",
            "6 10\n",
            "7 4\n",
            "7 10\n",
            "8 5\n",
            "[True, False, False, False, False, False, True, True, True, True, False]\n"
          ]
        }
      ]
    },
    {
      "cell_type": "code",
      "source": [
        "r,c = img.shape\n",
        "mask = np.zeros((r,c))\n",
        "for i in range(r):\n",
        "    for j in range(c):\n",
        "        if group[1+i*c+j]:\n",
        "            mask[i][j] = 1\n",
        "print(mask)"
      ],
      "metadata": {
        "colab": {
          "base_uri": "https://localhost:8080/"
        },
        "id": "jNinhH6qArcY",
        "outputId": "aeb3492a-fc64-4683-bd4e-9e394b925145"
      },
      "execution_count": null,
      "outputs": [
        {
          "output_type": "stream",
          "name": "stdout",
          "text": [
            "[[0. 0. 0.]\n",
            " [0. 0. 1.]\n",
            " [1. 1. 1.]]\n"
          ]
        }
      ]
    },
    {
      "cell_type": "code",
      "source": [
        "plt.imshow(img)"
      ],
      "metadata": {
        "colab": {
          "base_uri": "https://localhost:8080/",
          "height": 287
        },
        "id": "ovgZ0RtIBgO6",
        "outputId": "748c07f1-c814-4f11-e2f2-2e4c54391306"
      },
      "execution_count": null,
      "outputs": [
        {
          "output_type": "execute_result",
          "data": {
            "text/plain": [
              "<matplotlib.image.AxesImage at 0x7f8bb00a5e10>"
            ]
          },
          "metadata": {},
          "execution_count": 133
        },
        {
          "output_type": "display_data",
          "data": {
            "text/plain": [
              "<Figure size 432x288 with 1 Axes>"
            ],
            "image/png": "[encoded data removed]"
          },
          "metadata": {
            "needs_background": "light"
          }
        }
      ]
    },
    {
      "cell_type": "code",
      "source": [
        "plt.imshow(mask)"
      ],
      "metadata": {
        "colab": {
          "base_uri": "https://localhost:8080/",
          "height": 287
        },
        "id": "M9XDNPQhCGo3",
        "outputId": "a6cdd0ee-6981-404e-f93d-e87e5138e0f9"
      },
      "execution_count": null,
      "outputs": [
        {
          "output_type": "execute_result",
          "data": {
            "text/plain": [
              "<matplotlib.image.AxesImage at 0x7f8bafc178d0>"
            ]
          },
          "metadata": {},
          "execution_count": 139
        },
        {
          "output_type": "display_data",
          "data": {
            "text/plain": [
              "<Figure size 432x288 with 1 Axes>"
            ],
            "image/png": "[encoded data removed]"
          },
          "metadata": {
            "needs_background": "light"
          }
        }
      ]
    },
    {
      "cell_type": "markdown",
      "source": [
        "#Make Graphcut Segmentation Module"
      ],
      "metadata": {
        "id": "AtbXz0DPM3Sf"
      }
    },
    {
      "cell_type": "code",
      "source": [
        "import numpy as np\n",
        "from math import exp, pow\n",
        "from sklearn.mixture import GaussianMixture\n",
        "from collections import deque\n",
        "\n",
        "\n",
        "class Segmentation:\n",
        "    def __init__(self, img: np.ndarray, objLabel, bkgLabel):\n",
        "        self.img = img\n",
        "        self.bkg = bkgLabel\n",
        "        self.obj = objLabel\n",
        "\n",
        "    def B(self, p, q):\n",
        "        return 100 * exp(-pow(int(p) - int(q), 2) / (2 * pow(30, 2)))\n",
        "\n",
        "    def get_gmm(self):\n",
        "        bkg_values = [self.img[i[0]][i[1]] for i in self.bkg]\n",
        "        obj_values = [self.img[i[0]][i[1]] for i in self.obj]\n",
        "        hkg_hist, _ = np.histogram(bkg_values, 256, [0, 256])\n",
        "        obj_hist, _ = np.histogram(obj_values, 256, [0, 256])\n",
        "\n",
        "        obj_gmm = GaussianMixture(n_components=1)\n",
        "        obj_gmm = obj_gmm.fit(X=np.expand_dims(obj_values, 1))\n",
        "        bkg_gmm = GaussianMixture(n_components=1)\n",
        "        bkg_gmm = bkg_gmm.fit(X=np.expand_dims(bkg_values, 1))\n",
        "        return obj_gmm, bkg_gmm\n",
        "\n",
        "    def R(self, p, obj_gmm, bkg_gmm):\n",
        "        p_obj = np.exp(obj_gmm.score_samples([[p]]))\n",
        "        p_bkg = np.exp(bkg_gmm.score_samples([[p]]))\n",
        "        p_p_obj = p_obj / (p_obj + p_bkg)\n",
        "        p_p_bkg = p_bkg / (p_obj + p_bkg)\n",
        "        return -np.log(p_p_obj), -np.log(p_p_bkg)\n",
        "\n",
        "    # Image to Graph\n",
        "    def make_graph(self):\n",
        "        r, c = self.img.shape\n",
        "        V = r * c + 2\n",
        "        G = np.zeros((V,V),dtype=int)\n",
        "        alpha = 1\n",
        "        K = 1e9\n",
        "\n",
        "        # Regional Cost\n",
        "        obj_gmm, bkg_gmm = self.get_gmm()\n",
        "        for i in range(r):\n",
        "            for j in range(c):\n",
        "                if (i, j) in self.obj:\n",
        "                    G[0][1 + c * i + j] = K\n",
        "                    G[1 + c * i + j][V - 1] = 0\n",
        "                elif (i, j) in self.bkg:\n",
        "                    G[0][1 + c * i + j] = 0\n",
        "                    G[1 + c * i + j][V - 1] = K\n",
        "                else:\n",
        "                    R_bkg, R_obj = self.R(self.img[i][j], obj_gmm, bkg_gmm)\n",
        "                    G[0][1 + c * i + j] = alpha * R_obj\n",
        "                    G[1 + c * i + j][V - 1] = alpha * R_bkg\n",
        "\n",
        "        # Boundary Cost\n",
        "        for i in range(r):\n",
        "            for j in range(c):\n",
        "                if i - 1 >= 0 and G[c * i + j + 1][c * (i - 1) + j + 1] == 0:\n",
        "                    G[c * i + j + 1][c * (i - 1) + j + 1] = self.B(self.img[i][j], self.img[i - 1][j])\n",
        "                    G[c * (i - 1) + j + 1][c * i + j + 1] = self.B(self.img[i][j], self.img[i - 1][j])\n",
        "                if i + 1 < r and G[c * i + j + 1][c * (i + 1) + j + 1] == 0:\n",
        "                    G[c * i + j + 1][c * (i + 1) + j + 1] = self.B(self.img[i][j], self.img[i + 1][j])\n",
        "                    G[c * (i + 1) + j + 1][c * i + j + 1] = self.B(self.img[i][j], self.img[i + 1][j])\n",
        "                if j - 1 >= 0 and G[c * i + j + 1][c * i + (j - 1) + 1] == 0:\n",
        "                    G[c * i + j + 1][c * i + (j - 1) + 1] = self.B(self.img[i][j], self.img[i][j - 1])\n",
        "                    G[c * i + (j - 1) + 1][c * i + j + 1] = self.B(self.img[i][j], self.img[i][j - 1])\n",
        "                if j + 1 < c and G[c * i + (j + 1) + 1][c * i + (j + 1) + 1] == 0:\n",
        "                    G[c * i + j + 1][c * i + (j + 1) + 1] = self.B(self.img[i][j + 1], self.img[i][j])\n",
        "                    G[c * i + (j + 1) + 1][c * i + j + 1] = self.B(self.img[i][j + 1], self.img[i][j])\n",
        "        return G\n",
        "\n",
        "    def networkFlow(self, source, sink, capacity, flow):\n",
        "        N, totalflow = len(capacity), 0\n",
        "        while True:\n",
        "            parent = [-1] * N\n",
        "            queue = deque()\n",
        "            parent[source] = source\n",
        "            queue.append(source)\n",
        "            while queue and parent[sink] == -1:\n",
        "                p = queue.popleft()\n",
        "                for q in range(N):\n",
        "                    if capacity[p][q] - flow[p][q] > 0 and parent[q] == -1:\n",
        "                        queue.append(q)\n",
        "                        parent[q] = p\n",
        "            if parent[sink] == -1: break\n",
        "            p, amount = sink, int(1e9)\n",
        "            while (p != source):\n",
        "                amount = min(amount, capacity[parent[p]][p] - flow[parent[p]][p])\n",
        "                p = parent[p]\n",
        "            p = sink\n",
        "            while (p != source):\n",
        "                flow[parent[p]][p] += amount\n",
        "                flow[p][parent[p]] -= amount\n",
        "                p = parent[p]\n",
        "            totalflow += amount\n",
        "        return totalflow\n",
        "\n",
        "    def run(self):\n",
        "        r, c = self.img.shape\n",
        "        V = r * c + 2\n",
        "        G = self.make_graph()\n",
        "        F = np.zeros((V, V),dtype=int)\n",
        "        self.networkFlow(0, V - 1, G, F)\n",
        "\n",
        "        def dfs(graph, s, visited):\n",
        "            visited[s] = True\n",
        "            for i in range(len(graph)):\n",
        "                if graph[s][i] > 0 and not visited[i]:\n",
        "                    dfs(graph, i, visited)\n",
        "\n",
        "        visited = [False] * V\n",
        "        dfs(G, 0, visited)\n",
        "        for i in range(V):\n",
        "            for j in range(V):\n",
        "                if visited[i] and G[i][j] == F[i][j] != 0:\n",
        "                    G[i][j] = 0\n",
        "        group = [False] * V\n",
        "        dfs(G, 0, group)\n",
        "        mask = np.zeros((r, c))\n",
        "        for i in range(r):\n",
        "            for j in range(c):\n",
        "                if group[1 + i * c + j]:\n",
        "                    mask[i][j] = 1\n",
        "        return mask"
      ],
      "metadata": {
        "id": "nP22Tu6cGnUI"
      },
      "execution_count": null,
      "outputs": []
    },
    {
      "cell_type": "code",
      "source": [
        "img = np.array([[12, 170, 160],\n",
        "       [40, 30, 150],\n",
        "       [50, 137, 130]])\n",
        "bkg = [(0,0),(1,0)]\n",
        "obj = [(2,1),(2,2)]\n",
        "S = Segmentation(img,obj,bkg)\n",
        "mask = S.run()\n",
        "plt.imshow(img)"
      ],
      "metadata": {
        "colab": {
          "base_uri": "https://localhost:8080/",
          "height": 287
        },
        "id": "Ga7E-ZCUJokI",
        "outputId": "e394bfe3-8ed9-4dab-e807-559d8e7b68b5"
      },
      "execution_count": null,
      "outputs": [
        {
          "output_type": "execute_result",
          "data": {
            "text/plain": [
              "<matplotlib.image.AxesImage at 0x7f30421b7610>"
            ]
          },
          "metadata": {},
          "execution_count": 30
        },
        {
          "output_type": "display_data",
          "data": {
            "text/plain": [
              "<Figure size 432x288 with 1 Axes>"
            ],
            "image/png": "[encoded data removed]"
          },
          "metadata": {
            "needs_background": "light"
          }
        }
      ]
    },
    {
      "cell_type": "code",
      "source": [
        "plt.imshow(mask)"
      ],
      "metadata": {
        "colab": {
          "base_uri": "https://localhost:8080/",
          "height": 287
        },
        "id": "kTEzi205LFXd",
        "outputId": "0a8827e1-7467-4b60-b77f-869845d65ade"
      },
      "execution_count": null,
      "outputs": [
        {
          "output_type": "execute_result",
          "data": {
            "text/plain": [
              "<matplotlib.image.AxesImage at 0x7f3042194f10>"
            ]
          },
          "metadata": {},
          "execution_count": 31
        },
        {
          "output_type": "display_data",
          "data": {
            "text/plain": [
              "<Figure size 432x288 with 1 Axes>"
            ],
            "image/png": "[encoded data removed]"
          },
          "metadata": {
            "needs_background": "light"
          }
        }
      ]
    },
    {
      "cell_type": "code",
      "source": [
        "img = np.array([[12, 170, 160,10],\n",
        "       [40, 30, 150,50],\n",
        "       [50, 137, 130,60],\n",
        "       [10,100,120,20]])\n",
        "bkg = [(0,0),(1,0)]\n",
        "obj = [(2,1),(2,2)]\n",
        "S = Segmentation(img,obj,bkg)\n",
        "mask = S.run()\n",
        "plt.imshow(img)"
      ],
      "metadata": {
        "colab": {
          "base_uri": "https://localhost:8080/",
          "height": 287
        },
        "id": "aR4uarrOLPvJ",
        "outputId": "346fef87-9ae4-4da7-e7ec-6725649e4fa0"
      },
      "execution_count": null,
      "outputs": [
        {
          "output_type": "execute_result",
          "data": {
            "text/plain": [
              "<matplotlib.image.AxesImage at 0x7f3041fd8e10>"
            ]
          },
          "metadata": {},
          "execution_count": 34
        },
        {
          "output_type": "display_data",
          "data": {
            "text/plain": [
              "<Figure size 432x288 with 1 Axes>"
            ],
            "image/png": "[encoded data removed]"
          },
          "metadata": {
            "needs_background": "light"
          }
        }
      ]
    },
    {
      "cell_type": "code",
      "source": [
        "plt.imshow(mask)"
      ],
      "metadata": {
        "colab": {
          "base_uri": "https://localhost:8080/",
          "height": 287
        },
        "id": "m6isqH1TP_AO",
        "outputId": "b62c7fed-77c2-43f4-cdd1-3585e8b0100b"
      },
      "execution_count": null,
      "outputs": [
        {
          "output_type": "execute_result",
          "data": {
            "text/plain": [
              "<matplotlib.image.AxesImage at 0x7f3041fc16d0>"
            ]
          },
          "metadata": {},
          "execution_count": 35
        },
        {
          "output_type": "display_data",
          "data": {
            "text/plain": [
              "<Figure size 432x288 with 1 Axes>"
            ],
            "image/png": "[encoded data removed]"
          },
          "metadata": {
            "needs_background": "light"
          }
        }
      ]
    },
    {
      "cell_type": "code",
      "source": [
        ""
      ],
      "metadata": {
        "id": "I7jmnsdwQBXE"
      },
      "execution_count": null,
      "outputs": []
    }
  ]
}